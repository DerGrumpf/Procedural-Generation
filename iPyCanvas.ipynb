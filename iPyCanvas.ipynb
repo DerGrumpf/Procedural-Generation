{
 "cells": [
  {
   "cell_type": "code",
   "execution_count": 3,
   "id": "f1bb9f2f-e1e1-40dc-af45-644fdcb5f671",
   "metadata": {
    "tags": []
   },
   "outputs": [
    {
     "data": {
      "application/vnd.jupyter.widget-view+json": {
       "model_id": "b69317d97e5d4b228e15b1c01b645038",
       "version_major": 2,
       "version_minor": 0
      },
      "text/plain": [
       "Canvas(height=200, width=200)"
      ]
     },
     "execution_count": 3,
     "metadata": {},
     "output_type": "execute_result"
    }
   ],
   "source": [
    "from ipycanvas import Canvas\n",
    "\n",
    "canvas = Canvas(width=200, height=200)\n",
    "canvas"
   ]
  },
  {
   "cell_type": "code",
   "execution_count": 2,
   "id": "69d2bedd-75e8-4ac6-8be9-8edfb8e97149",
   "metadata": {
    "tags": []
   },
   "outputs": [
    {
     "name": "stdout",
     "output_type": "stream",
     "text": [
      "Requirement already satisfied: ipycanvas in /Users/phil/Library/jupyterlab-desktop/jlab_server/lib/python3.8/site-packages (0.13.1)\n",
      "Requirement already satisfied: ipywidgets<9,>=7.6.0 in /Users/phil/Library/jupyterlab-desktop/jlab_server/lib/python3.8/site-packages (from ipycanvas) (8.0.6)\n",
      "Requirement already satisfied: pillow>=6.0 in /Users/phil/Library/jupyterlab-desktop/jlab_server/lib/python3.8/site-packages (from ipycanvas) (9.5.0)\n",
      "Requirement already satisfied: numpy in /Users/phil/Library/jupyterlab-desktop/jlab_server/lib/python3.8/site-packages (from ipycanvas) (1.24.3)\n",
      "Requirement already satisfied: ipykernel>=4.5.1 in /Users/phil/Library/jupyterlab-desktop/jlab_server/lib/python3.8/site-packages (from ipywidgets<9,>=7.6.0->ipycanvas) (6.22.0)\n",
      "Requirement already satisfied: ipython>=6.1.0 in /Users/phil/Library/jupyterlab-desktop/jlab_server/lib/python3.8/site-packages (from ipywidgets<9,>=7.6.0->ipycanvas) (8.12.1)\n",
      "Requirement already satisfied: traitlets>=4.3.1 in /Users/phil/Library/jupyterlab-desktop/jlab_server/lib/python3.8/site-packages (from ipywidgets<9,>=7.6.0->ipycanvas) (5.9.0)\n",
      "Requirement already satisfied: widgetsnbextension~=4.0.7 in /Users/phil/Library/jupyterlab-desktop/jlab_server/lib/python3.8/site-packages (from ipywidgets<9,>=7.6.0->ipycanvas) (4.0.7)\n",
      "Requirement already satisfied: jupyterlab-widgets~=3.0.7 in /Users/phil/Library/jupyterlab-desktop/jlab_server/lib/python3.8/site-packages (from ipywidgets<9,>=7.6.0->ipycanvas) (3.0.7)\n",
      "Requirement already satisfied: appnope in /Users/phil/Library/jupyterlab-desktop/jlab_server/lib/python3.8/site-packages (from ipykernel>=4.5.1->ipywidgets<9,>=7.6.0->ipycanvas) (0.1.3)\n",
      "Requirement already satisfied: comm>=0.1.1 in /Users/phil/Library/jupyterlab-desktop/jlab_server/lib/python3.8/site-packages (from ipykernel>=4.5.1->ipywidgets<9,>=7.6.0->ipycanvas) (0.1.3)\n",
      "Requirement already satisfied: debugpy>=1.6.5 in /Users/phil/Library/jupyterlab-desktop/jlab_server/lib/python3.8/site-packages (from ipykernel>=4.5.1->ipywidgets<9,>=7.6.0->ipycanvas) (1.6.7)\n",
      "Requirement already satisfied: jupyter-client>=6.1.12 in /Users/phil/Library/jupyterlab-desktop/jlab_server/lib/python3.8/site-packages (from ipykernel>=4.5.1->ipywidgets<9,>=7.6.0->ipycanvas) (8.2.0)\n",
      "Requirement already satisfied: jupyter-core!=5.0.*,>=4.12 in /Users/phil/Library/jupyterlab-desktop/jlab_server/lib/python3.8/site-packages (from ipykernel>=4.5.1->ipywidgets<9,>=7.6.0->ipycanvas) (5.3.0)\n",
      "Requirement already satisfied: matplotlib-inline>=0.1 in /Users/phil/Library/jupyterlab-desktop/jlab_server/lib/python3.8/site-packages (from ipykernel>=4.5.1->ipywidgets<9,>=7.6.0->ipycanvas) (0.1.6)\n",
      "Requirement already satisfied: nest-asyncio in /Users/phil/Library/jupyterlab-desktop/jlab_server/lib/python3.8/site-packages (from ipykernel>=4.5.1->ipywidgets<9,>=7.6.0->ipycanvas) (1.5.6)\n",
      "Requirement already satisfied: packaging in /Users/phil/Library/jupyterlab-desktop/jlab_server/lib/python3.8/site-packages (from ipykernel>=4.5.1->ipywidgets<9,>=7.6.0->ipycanvas) (23.1)\n",
      "Requirement already satisfied: psutil in /Users/phil/Library/jupyterlab-desktop/jlab_server/lib/python3.8/site-packages (from ipykernel>=4.5.1->ipywidgets<9,>=7.6.0->ipycanvas) (5.9.5)\n",
      "Requirement already satisfied: pyzmq>=20 in /Users/phil/Library/jupyterlab-desktop/jlab_server/lib/python3.8/site-packages (from ipykernel>=4.5.1->ipywidgets<9,>=7.6.0->ipycanvas) (25.0.2)\n",
      "Requirement already satisfied: tornado>=6.1 in /Users/phil/Library/jupyterlab-desktop/jlab_server/lib/python3.8/site-packages (from ipykernel>=4.5.1->ipywidgets<9,>=7.6.0->ipycanvas) (6.3)\n",
      "Requirement already satisfied: backcall in /Users/phil/Library/jupyterlab-desktop/jlab_server/lib/python3.8/site-packages (from ipython>=6.1.0->ipywidgets<9,>=7.6.0->ipycanvas) (0.2.0)\n",
      "Requirement already satisfied: decorator in /Users/phil/Library/jupyterlab-desktop/jlab_server/lib/python3.8/site-packages (from ipython>=6.1.0->ipywidgets<9,>=7.6.0->ipycanvas) (5.1.1)\n",
      "Requirement already satisfied: jedi>=0.16 in /Users/phil/Library/jupyterlab-desktop/jlab_server/lib/python3.8/site-packages (from ipython>=6.1.0->ipywidgets<9,>=7.6.0->ipycanvas) (0.18.2)\n",
      "Requirement already satisfied: pickleshare in /Users/phil/Library/jupyterlab-desktop/jlab_server/lib/python3.8/site-packages (from ipython>=6.1.0->ipywidgets<9,>=7.6.0->ipycanvas) (0.7.5)\n",
      "Requirement already satisfied: prompt-toolkit!=3.0.37,<3.1.0,>=3.0.30 in /Users/phil/Library/jupyterlab-desktop/jlab_server/lib/python3.8/site-packages (from ipython>=6.1.0->ipywidgets<9,>=7.6.0->ipycanvas) (3.0.38)\n",
      "Requirement already satisfied: pygments>=2.4.0 in /Users/phil/Library/jupyterlab-desktop/jlab_server/lib/python3.8/site-packages (from ipython>=6.1.0->ipywidgets<9,>=7.6.0->ipycanvas) (2.15.1)\n",
      "Requirement already satisfied: stack-data in /Users/phil/Library/jupyterlab-desktop/jlab_server/lib/python3.8/site-packages (from ipython>=6.1.0->ipywidgets<9,>=7.6.0->ipycanvas) (0.6.2)\n",
      "Requirement already satisfied: typing-extensions in /Users/phil/Library/jupyterlab-desktop/jlab_server/lib/python3.8/site-packages (from ipython>=6.1.0->ipywidgets<9,>=7.6.0->ipycanvas) (4.5.0)\n",
      "Requirement already satisfied: pexpect>4.3 in /Users/phil/Library/jupyterlab-desktop/jlab_server/lib/python3.8/site-packages (from ipython>=6.1.0->ipywidgets<9,>=7.6.0->ipycanvas) (4.8.0)\n",
      "Requirement already satisfied: parso<0.9.0,>=0.8.0 in /Users/phil/Library/jupyterlab-desktop/jlab_server/lib/python3.8/site-packages (from jedi>=0.16->ipython>=6.1.0->ipywidgets<9,>=7.6.0->ipycanvas) (0.8.3)\n",
      "Requirement already satisfied: importlib-metadata>=4.8.3 in /Users/phil/Library/jupyterlab-desktop/jlab_server/lib/python3.8/site-packages (from jupyter-client>=6.1.12->ipykernel>=4.5.1->ipywidgets<9,>=7.6.0->ipycanvas) (6.6.0)\n",
      "Requirement already satisfied: python-dateutil>=2.8.2 in /Users/phil/Library/jupyterlab-desktop/jlab_server/lib/python3.8/site-packages (from jupyter-client>=6.1.12->ipykernel>=4.5.1->ipywidgets<9,>=7.6.0->ipycanvas) (2.8.2)\n",
      "Requirement already satisfied: platformdirs>=2.5 in /Users/phil/Library/jupyterlab-desktop/jlab_server/lib/python3.8/site-packages (from jupyter-core!=5.0.*,>=4.12->ipykernel>=4.5.1->ipywidgets<9,>=7.6.0->ipycanvas) (3.5.0)\n",
      "Requirement already satisfied: ptyprocess>=0.5 in /Users/phil/Library/jupyterlab-desktop/jlab_server/lib/python3.8/site-packages (from pexpect>4.3->ipython>=6.1.0->ipywidgets<9,>=7.6.0->ipycanvas) (0.7.0)\n",
      "Requirement already satisfied: wcwidth in /Users/phil/Library/jupyterlab-desktop/jlab_server/lib/python3.8/site-packages (from prompt-toolkit!=3.0.37,<3.1.0,>=3.0.30->ipython>=6.1.0->ipywidgets<9,>=7.6.0->ipycanvas) (0.2.6)\n",
      "Requirement already satisfied: executing>=1.2.0 in /Users/phil/Library/jupyterlab-desktop/jlab_server/lib/python3.8/site-packages (from stack-data->ipython>=6.1.0->ipywidgets<9,>=7.6.0->ipycanvas) (1.2.0)\n",
      "Requirement already satisfied: asttokens>=2.1.0 in /Users/phil/Library/jupyterlab-desktop/jlab_server/lib/python3.8/site-packages (from stack-data->ipython>=6.1.0->ipywidgets<9,>=7.6.0->ipycanvas) (2.2.1)\n",
      "Requirement already satisfied: pure-eval in /Users/phil/Library/jupyterlab-desktop/jlab_server/lib/python3.8/site-packages (from stack-data->ipython>=6.1.0->ipywidgets<9,>=7.6.0->ipycanvas) (0.2.2)\n",
      "Requirement already satisfied: six in /Users/phil/Library/jupyterlab-desktop/jlab_server/lib/python3.8/site-packages (from asttokens>=2.1.0->stack-data->ipython>=6.1.0->ipywidgets<9,>=7.6.0->ipycanvas) (1.16.0)\n",
      "Requirement already satisfied: zipp>=0.5 in /Users/phil/Library/jupyterlab-desktop/jlab_server/lib/python3.8/site-packages (from importlib-metadata>=4.8.3->jupyter-client>=6.1.12->ipykernel>=4.5.1->ipywidgets<9,>=7.6.0->ipycanvas) (3.15.0)\n"
     ]
    }
   ],
   "source": [
    "!pip install ipycanvas"
   ]
  },
  {
   "cell_type": "code",
   "execution_count": null,
   "id": "b3b594e7-d3ef-41a7-b596-6410f420459e",
   "metadata": {},
   "outputs": [],
   "source": []
  }
 ],
 "metadata": {
  "kernelspec": {
   "display_name": "Python 3 (ipykernel)",
   "language": "python",
   "name": "python3"
  },
  "language_info": {
   "codemirror_mode": {
    "name": "ipython",
    "version": 3
   },
   "file_extension": ".py",
   "mimetype": "text/x-python",
   "name": "python",
   "nbconvert_exporter": "python",
   "pygments_lexer": "ipython3",
   "version": "3.8.16"
  }
 },
 "nbformat": 4,
 "nbformat_minor": 5
}
